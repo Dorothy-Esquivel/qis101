{
 "cells": [
  {
   "cell_type": "code",
   "execution_count": 2,
   "id": "c4039191-bcff-4b01-93cb-f85f6f6e8995",
   "metadata": {
    "tags": []
   },
   "outputs": [
    {
     "data": {
      "text/latex": [
       "$\\displaystyle \\mathbf{Coefficient\\;Matrix}=\\begin{bmatrix}1 &2 &1 &-1\\\\3 &2 &4 &4\\\\4 &4 &3 &4\\\\2 &0 &1 &5\\\\\\end{bmatrix}$"
      ],
      "text/plain": [
       "<IPython.core.display.Math object>"
      ]
     },
     "metadata": {},
     "output_type": "display_data"
    },
    {
     "data": {
      "text/latex": [
       "$\\displaystyle \\mathbf{Values\\;Vector}=\\begin{bmatrix}5 &16 &22 &15\\\\\\end{bmatrix}$"
      ],
      "text/plain": [
       "<IPython.core.display.Math object>"
      ]
     },
     "metadata": {},
     "output_type": "display_data"
    },
    {
     "data": {
      "text/latex": [
       "$\\displaystyle \\mathbf{Solution\\;Vector}=\\begin{bmatrix}16\\\\-6\\\\-2\\\\-3\\\\\\end{bmatrix}$"
      ],
      "text/plain": [
       "<IPython.core.display.Math object>"
      ]
     },
     "metadata": {},
     "output_type": "display_data"
    }
   ],
   "source": [
    "\"\"\"solve4x4.ipynb\"\"\"\n",
    "# Cell 1\n",
    "\n",
    "from __future__ import annotations\n",
    "\n",
    "import typing\n",
    "\n",
    "import numpy as np\n",
    "from IPython.core.display import Math\n",
    "\n",
    "if typing.TYPE_CHECKING:\n",
    "    from numpy.typing import NDArray\n",
    "\n",
    "\n",
    "def display_array(\n",
    "    a: NDArray[np.complex_], places: int = 5, column: bool = False, prefix: str = \"\"\n",
    ") -> None:\n",
    "    \"\"\"\n",
    "    Display a complex-valued numpy array in LaTeX format.\n",
    "\n",
    "    Args:\n",
    "        a: The complex-valued numpy array to display\n",
    "        places: The number of decimal places to display for the real and imaginary components.\n",
    "        column: Whether to display the array as a column vector.\n",
    "        prefix: Prefix to include in the displayed LaTeX\n",
    "    \"\"\"\n",
    "    def strip(val: float) -> str:\n",
    "        \"\"\"\n",
    "        Strip trailing zeros and unnecessay decimal points from a float value.\n",
    "\n",
    "        Args:\n",
    "            val: The float value to strip.\n",
    "\n",
    "        Reurns:\n",
    "            The stripped string representation of the float value.\n",
    "        \"\"\"\n",
    "        frmt: str = \":.\" + str(places) + \"f\"\n",
    "        d: str = str(\"{v\" + frmt + \"}\").format(v=val)\n",
    "        while d[-1] == \"0\":\n",
    "            d = d[:-1]\n",
    "        if d[-1] == \".\":\n",
    "            d = d[:-1]\n",
    "        if float(d) == 0:\n",
    "            d = \"0\"\n",
    "        return d\n",
    "\n",
    "    # Create a copy of the array 'a' to work with\n",
    "    m: NDArray[np.complex_] = np.copy(a)\n",
    "\n",
    "    # If the array is 1-dimensional, reshape it as a row or column vector based on 'column' flag\n",
    "    if len(m.shape) == 1:\n",
    "        m = m[np.newaxis, :]\n",
    "        if column:\n",
    "            m = m.T\n",
    "\n",
    "    # Set the precision based on the number of decimal places\n",
    "    prec: float = 1 / 10**places\n",
    "\n",
    "    # Initialize the LaTeX string\n",
    "    s: str = r\"\\begin{bmatrix}\"\n",
    "\n",
    "    # Iterate over each element in the array\n",
    "    for row in range(m.shape[0]):\n",
    "        for col in range(m.shape[1]):\n",
    "            # Extract the real and imaginary components of the complex value\n",
    "            v: np.complex_ = m[row, col]\n",
    "            real_comp: float = float(np.real(v))\n",
    "            imag_comp: float = float(np.imag(v))\n",
    "            is_imag_neg: bool = imag_comp < 0\n",
    "            is_real_zero: bool = bool(np.isclose(real_comp, 0, atol=prec))\n",
    "            is_imag_zero: bool = bool(np.isclose(imag_comp, 0, atol=prec))\n",
    "            is_imag_one: bool = bool(np.isclose(abs(imag_comp), 1, atol=prec))\n",
    "\n",
    "            # Check conditinos to determine the component representation in LaTeX\n",
    "            if is_real_zero:\n",
    "                if is_imag_zero:\n",
    "                    s += \"0\"\n",
    "            else:\n",
    "                s += strip(real_comp)\n",
    "            if not is_imag_zero:\n",
    "                if is_imag_one:\n",
    "                    if is_imag_neg:\n",
    "                        s += r\"-i\"\n",
    "                    else:\n",
    "                        if not is_real_zero:\n",
    "                            s += \"+\"\n",
    "                        s += r\"i\"\n",
    "                else:\n",
    "                    if not is_real_zero and not is_imag_neg:\n",
    "                        s += \" + \"\n",
    "                    s += strip(imag_comp) + \"i\"\n",
    "            if col < m.shape[1] - 1:\n",
    "                s += \" &\"\n",
    "        s += r\"\\\\\"\n",
    "    s += r\"\\end{bmatrix}\"\n",
    "\n",
    "    #Display the LaTeX string as Math\n",
    "    display(Math(prefix + s))\n",
    "\n",
    "\n",
    "# TODO: Add your code below this\n",
    "\n",
    "# Used Dave's code\n",
    "\n",
    "#fmt:off\n",
    "# Define the coefficient matrix\n",
    "coeffs: NDArray[np.int_] = np.array(\n",
    "    [\n",
    "        [1, 2, 1, -1],\n",
    "        [3, 2, 4, 4],\n",
    "        [4, 4, 3, 4],\n",
    "        [2, 0, 1, 5]\n",
    "    ], dtype=np.int_\n",
    ")\n",
    "#fmt: on\n",
    "\n",
    "# Define the values vector\n",
    "vals: NDArray[np.int_] = np.array([5, 16, 22, 15], dtype=np.int_)\n",
    "\n",
    "sol: NDArray[np.float_] = np.linalg.solve(coeffs, vals)\n",
    "\n",
    "# Display the coeffiecient matrix, values vector, and solution matrix\n",
    "display_array(coeffs, prefix=r\"\\mathbf{Coefficient\\;Matrix}=\")\n",
    "display_array(vals, prefix=r\"\\mathbf{Values\\;Vector}=\")\n",
    "display_array(sol, prefix=r\"\\mathbf{Solution\\;Vector}=\", column=True)"
   ]
  },
  {
   "cell_type": "code",
   "execution_count": null,
   "id": "3ee868ee-ad6e-4f60-9225-4f6df9f8bba6",
   "metadata": {},
   "outputs": [],
   "source": []
  }
 ],
 "metadata": {
  "kernelspec": {
   "display_name": "Python 3 (ipykernel)",
   "language": "python",
   "name": "python3"
  },
  "language_info": {
   "codemirror_mode": {
    "name": "ipython",
    "version": 3
   },
   "file_extension": ".py",
   "mimetype": "text/x-python",
   "name": "python",
   "nbconvert_exporter": "python",
   "pygments_lexer": "ipython3",
   "version": "3.9.16"
  }
 },
 "nbformat": 4,
 "nbformat_minor": 5
}
