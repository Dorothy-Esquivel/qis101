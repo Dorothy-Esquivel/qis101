{
 "cells": [
  {
   "cell_type": "code",
   "execution_count": 1,
   "id": "f34b82c8-1990-41be-a381-ee060150e605",
   "metadata": {},
   "outputs": [
    {
     "name": "stdout",
     "output_type": "stream",
     "text": [
      "2323 in octal = 1,235 in decimal\n"
     ]
    }
   ],
   "source": [
    "\"\"\"octal_converter.ipynb\"\"\"\n",
    "# Cell 1 - Octal to Decimal\n",
    "# Used Dave's code\n",
    "\n",
    "import numpy as np\n",
    "\n",
    "def octal_to_decimal(o: str) -> int:\n",
    "    \"\"\"\n",
    "    Convertws an octal number to decimal\n",
    "\n",
    "    Args:\n",
    "        o: Octal number as a string\n",
    "\n",
    "    Returns:\n",
    "        Decimal representation of the octal number\n",
    "    \"\"\"\n",
    "\n",
    "    # Reverse the octal string for easier processing\n",
    "    o = o[::-1]\n",
    "\n",
    "    # Initialize the sum to 0\n",
    "    sum = 0\n",
    "\n",
    "    # Iterate over each position in the reversed octal string\n",
    "    for position in range(len(o)):\n",
    "        # Calculate the weight of the position (8 raised to the power of the position)\n",
    "        weight: int = pow(8, position)\n",
    "\n",
    "        # Convert the digit at the current position to an integer\n",
    "        digit = int(o[position])\n",
    "\n",
    "        # Add the product of the digit and weight to the sum\n",
    "        sum += digit * weight\n",
    "    return sum\n",
    "\n",
    "# Test the octal_to_decimal function\n",
    "o: str = \"2323\"\n",
    "d: int = octal_to_decimal(o)\n",
    "print(f\"{o} in octal = {d:,} in decimal\")\n"
   ]
  },
  {
   "cell_type": "code",
   "execution_count": 2,
   "id": "394704c0-22ac-4107-933d-c0b82ebd6451",
   "metadata": {},
   "outputs": [
    {
     "name": "stdout",
     "output_type": "stream",
     "text": [
      "1,235 in decimal = 2323 in octal\n"
     ]
    }
   ],
   "source": [
    "# Cell 2 - Decimal to Octal\n",
    "# Used Dave's code\n",
    "\n",
    "def decimal_to_octal(d: int) -> str:\n",
    "    \"\"\"\n",
    "    Converts a decimal number to octal\n",
    "\n",
    "    Args:\n",
    "        d: Decimal number\n",
    "\n",
    "    Returns:\n",
    "        Octal representation of the decimal number as a string\n",
    "    \"\"\"\n",
    "    \n",
    "    o: str = \"\"\n",
    "\n",
    "    # Perform division by 8 repeatedly until the decimal number becomes 0\n",
    "    while d > 0:\n",
    "        # Append the remainder (digit in octal) to the octal string\n",
    "        o += str(d % 8)\n",
    "\n",
    "        # Update the decimal number by integer division by 8\n",
    "        d = int(d / 8)\n",
    "\n",
    "    # Reverse the octal string to get the correct order of digits    \n",
    "    o = o[::-1]\n",
    "    return o\n",
    "\n",
    "# Test the decimal_to_octal function\n",
    "d: int = 1235\n",
    "o: str = decimal_to_octal(d)\n",
    "print(f\"{d:,} in decimal = {o} in octal\")"
   ]
  },
  {
   "cell_type": "code",
   "execution_count": 3,
   "id": "f1f86e2f-a0a5-4fcb-8728-e3cd58d28163",
   "metadata": {},
   "outputs": [
    {
     "name": "stdout",
     "output_type": "stream",
     "text": [
      "2323 in octal = 1,235 in decimal\n"
     ]
    }
   ],
   "source": [
    "# Cell 3 - Using alternate constructor of builtin int() class\n",
    "# Used Dave's code\n",
    "\n",
    "# Assign the octal number as a string to the variable 'o'\n",
    "o: str = \"2323\"\n",
    "\n",
    "# Convert the octal number 'o' to decimal using the built-in 'int()' function with base 8\n",
    "d: int = int(o, 8)\n",
    "\n",
    "# Print the original octal number 'o' and the converted decimal number 'd' with comma seperators for better readability\n",
    "print(f\"{o} in octal = {d:,} in decimal\")"
   ]
  },
  {
   "cell_type": "code",
   "execution_count": 4,
   "id": "ab5faca5-913c-4ea8-a515-dceb8ddf2c17",
   "metadata": {},
   "outputs": [
    {
     "name": "stdout",
     "output_type": "stream",
     "text": [
      "1,235 in decimal = 2323 in octal\n"
     ]
    }
   ],
   "source": [
    "# Cell 4 - Using builtin base_repr() function\n",
    "# Used Dave's code\n",
    "\n",
    "# Assign the decimal number to the variable 'd'\n",
    "d = 1235\n",
    "\n",
    "# Convert the decimal number 'd' to octal using the 'np.base_repr()' function from NumPy\n",
    "o: str = np.base_repr(d, base=8)\n",
    "\n",
    "# Print the original decimal number 'd' and the converted octal number 'o'\n",
    "print(f\"{d:,} in decimal = {o} in octal\")"
   ]
  },
  {
   "cell_type": "code",
   "execution_count": null,
   "id": "f11b5940-49bf-4293-b57d-6c402fcd6fd6",
   "metadata": {},
   "outputs": [],
   "source": []
  }
 ],
 "metadata": {
  "kernelspec": {
   "display_name": "Python 3 (ipykernel)",
   "language": "python",
   "name": "python3"
  },
  "language_info": {
   "codemirror_mode": {
    "name": "ipython",
    "version": 3
   },
   "file_extension": ".py",
   "mimetype": "text/x-python",
   "name": "python",
   "nbconvert_exporter": "python",
   "pygments_lexer": "ipython3",
   "version": "3.9.16"
  }
 },
 "nbformat": 4,
 "nbformat_minor": 5
}
