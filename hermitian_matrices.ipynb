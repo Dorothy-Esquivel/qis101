{
 "cells": [
  {
   "cell_type": "code",
   "execution_count": 2,
   "id": "a114f0a9-a0bf-4004-ba16-c135403f320e",
   "metadata": {
    "tags": []
   },
   "outputs": [
    {
     "data": {
      "text/latex": [
       "$\\displaystyle \\mathbf{A}=\\begin{bmatrix}4 &4-6i &3+i\\\\4 + 6i &12 &2 + 5i\\\\3-i &2-5i &5\\\\\\end{bmatrix}$"
      ],
      "text/plain": [
       "<IPython.core.display.Math object>"
      ]
     },
     "metadata": {},
     "output_type": "display_data"
    },
    {
     "data": {
      "text/latex": [
       "$\\displaystyle \\mathbf{A^{-1}}=\\begin{bmatrix}-2.58333 &0.75-1.41667i &-0.16667 + 0.33333i\\\\0.75 + 1.41667i &-0.83333 &0.16667-0.16667i\\\\-0.16667-0.33333i &0.16667 + 0.16667i &0.33333\\\\\\end{bmatrix}$"
      ],
      "text/plain": [
       "<IPython.core.display.Math object>"
      ]
     },
     "metadata": {},
     "output_type": "display_data"
    },
    {
     "data": {
      "text/latex": [
       "$\\displaystyle \\mathbf{\\overline{(A^{-1})^{T}}}=\\begin{bmatrix}-2.58333 &0.75-1.41667i &-0.16667 + 0.33333i\\\\0.75 + 1.41667i &-0.83333 &0.16667-0.16667i\\\\-0.16667-0.33333i &0.16667 + 0.16667i &0.33333\\\\\\end{bmatrix}$"
      ],
      "text/plain": [
       "<IPython.core.display.Math object>"
      ]
     },
     "metadata": {},
     "output_type": "display_data"
    },
    {
     "data": {
      "text/latex": [
       "$\\displaystyle \\mathbf{A^{-1}}=\\mathbf{\\overline{(A^{-1})^{T}}}\\;?\\;\\rightarrow\\;True$"
      ],
      "text/plain": [
       "<IPython.core.display.Math object>"
      ]
     },
     "metadata": {},
     "output_type": "display_data"
    }
   ],
   "source": [
    "\"\"\"hermitian_matrices.ipynb\"\"\"\n",
    "\n",
    "# Cell 1 - The inverse of a Hermitian matrix is also Hermitian\n",
    "\n",
    "from __future__ import annotations\n",
    "\n",
    "import typing\n",
    "\n",
    "import numpy as np\n",
    "from IPython.core.display import Math\n",
    "\n",
    "if typing.TYPE_CHECKING:\n",
    "    from numpy.typing import NDArray\n",
    "\n",
    "\n",
    "def display_array(\n",
    "    a: NDArray[np.complex_], places: int = 5, column: bool = False, prefix: str = \"\"\n",
    ") -> None:\n",
    "    \"\"\"\n",
    "    Function to display a complex numpy array in a formatted martix using LaTeX\n",
    "\n",
    "    Args: \n",
    "        a: The complex numpy array to display\n",
    "        places: Number of decimal places to round the elements to (default is 5)\n",
    "        column: Display the array in column format if True, row format if False (default is False)\n",
    "        prefix: Prefix string to display before the array (default is an empty string)\n",
    "    \"\"\"\n",
    "    \n",
    "    def strip(val: float) -> str:\n",
    "        \"\"\"\n",
    "        Function to strip trailing zeros from a floating-point number\n",
    "\n",
    "        Args:\n",
    "            val: The floating-point number to strip.\n",
    "\n",
    "        Returns: \n",
    "            The stripped number as a string.\n",
    "        \"\"\"\n",
    "            \n",
    "        frmt: str = \":.\" + str(places) + \"f\" # Format string for rounding\n",
    "        d: str = str(\"{v\" + frmt + \"}\").format(v=val) # format the number with the given places\n",
    "        while d[-1] == \"0\":\n",
    "            d = d[:-1] # Remove trailing zeros\n",
    "        if d[-1] == \".\":\n",
    "            d = d[:-1] # Remove trailing decimal point\n",
    "        if float(d) == 0:\n",
    "            d = \"0\" # Convert -0.0 to 0\n",
    "        return d\n",
    "\n",
    "    m: NDArray[np.complex_] = np.copy(a)\n",
    "    if len(m.shape) == 1:\n",
    "        m = m[np.newaxis, :]\n",
    "        if column:\n",
    "            m = m.T\n",
    "            \n",
    "    prec: float = 1 / 10**places # Precision for checking if a number is close to zero\n",
    "    s: str = r\"\\begin{bmatrix}\" # LaTeX matrix start\n",
    "    \n",
    "    for row in range(m.shape[0]):\n",
    "        for col in range(m.shape[1]):\n",
    "            v: np.complex_ = m[row, col] # Get the complex value at the current position\n",
    "            real_comp: float = float(np.real(v)) # Real component of the complex value\n",
    "            imag_comp: float = float(np.imag(v)) # Imaginary component of the complex value\n",
    "            is_imag_neg: bool = imag_comp < 0 # Check if the imaginary component is negative\n",
    "            is_real_zero: bool = bool(np.isclose(real_comp, 0, atol=prec)) # Check if the real component is close to zero \n",
    "            is_imag_zero: bool = bool(np.isclose(imag_comp, 0, atol=prec)) # Check if the imaginary component is close to zero\n",
    "            is_imag_one: bool = bool(np.isclose(abs(imag_comp), 1, atol=prec)) # Check if the absolute value of the imaginary component is close to one \n",
    "            \n",
    "            if is_real_zero:\n",
    "                if is_imag_zero:\n",
    "                    s += \"0\" # Add '0' if both real and imaginary components are zero\n",
    "            else:\n",
    "                s += strip(real_comp) # Add the real component if it is non-zero\n",
    "            if not is_imag_zero:\n",
    "                if is_imag_one:\n",
    "                    if is_imag_neg:\n",
    "                        s += r\"-i\" # Add '-i' if the imaginary component is -1\n",
    "                    else:\n",
    "                        if not is_real_zero:\n",
    "                            s += \"+\" # Add '+' if the real component is non-zero\n",
    "                        s += r\"i\" # Add 'i' if the imaginary component is 1\n",
    "                else:\n",
    "                    if not is_real_zero and not is_imag_neg:\n",
    "                        s += \" + \" # Add '+' if both real and imaginary components are non-zero and the imaginary component is positive \n",
    "                    s += strip(imag_comp) + \"i\" # Add the imaginary component\n",
    "            if col < m.shape[1] - 1:\n",
    "                s += \" &\" # Add '&' between elements in a row\n",
    "        s += r\"\\\\\"\n",
    "    s += r\"\\end{bmatrix}\" # LaTeX matrix end\n",
    "    display(Math(prefix + s)) # Display the formatted matrix\n",
    "\n",
    "\n",
    "# TODO: Add your code below this\n",
    "\n",
    "# Used Dave's code\n",
    "# fmt: off\n",
    "a: NDArray[np.complex_] = np.array(\n",
    "    [\n",
    "        [4, 4 - 6j, 3 + 1j],\n",
    "        [4 + 6j, 12, 2 + 5j],\n",
    "        [3 - 1j, 2 - 5j, 5]\n",
    "    ], dtype=np.complex_\n",
    ")\n",
    "# fmt: on\n",
    "\n",
    "display_array(a, prefix=r\"\\mathbf{A}=\") # Display matrix 'A' with the given prefix\n",
    "\n",
    "t1: NDArray[np.complex_] = np.array(np.linalg.inv(a)) # Compute the inverse of matrix 'a'\n",
    "t2: NDArray[np.complex_] = t1.conj().T # Compute the conjugate transpose of the inverse matrix\n",
    "\n",
    "display_array(t1, prefix=r\"\\mathbf{A^{-1}}=\") # Display the inverse matrix with the given prefix\n",
    "display_array(t2, prefix=r\"\\mathbf{\\overline{(A^{-1})^{T}}}=\") # Display the conjugate transpose of the inverse matrix with the given prefix \n",
    "\n",
    "# Displaying mathematical expressions\n",
    "display(\n",
    "    Math(\n",
    "        (\n",
    "            r\"\\mathbf{A^{-1}}=\"\n",
    "            r\"\\mathbf{\\overline{(A^{-1})^{T}}}\"\n",
    "            rf\"\\;?\\;\\rightarrow\\;{np.isclose(t1,t2).all()}\"\n",
    "        )\n",
    "    )\n",
    ")"
   ]
  },
  {
   "cell_type": "code",
   "execution_count": 8,
   "id": "ccf20f1b-fb7f-4246-b58c-dd7a01965f03",
   "metadata": {
    "tags": []
   },
   "outputs": [
    {
     "data": {
      "text/latex": [
       "$\\displaystyle \\mathbf{B}=\\begin{bmatrix}2 &3.8 + 2i &1-5.9i\\\\3.8-2i &4 &2.57i\\\\1 + 5.9i &-2.57 &1\\\\\\end{bmatrix}$"
      ],
      "text/plain": [
       "<IPython.core.display.Math object>"
      ]
     },
     "metadata": {},
     "output_type": "display_data"
    },
    {
     "data": {
      "text/latex": [
       "$\\displaystyle \\mathbf{B^7}=\\begin{bmatrix}2502201.43078 + 185687.7747i &1991155.66016 + 1741739.66816i &-201392.02-1366402.47159i\\\\915481.90254-1021858.62665i &1301126.90051-159075.0797i &-471942.96707-294005.7222i\\\\22295.03472 + 2265323.71011i &-1530273.80888 + 1678766.12319i &1008660.23399-81425.08969i\\\\\\end{bmatrix}$"
      ],
      "text/plain": [
       "<IPython.core.display.Math object>"
      ]
     },
     "metadata": {},
     "output_type": "display_data"
    },
    {
     "data": {
      "text/latex": [
       "$\\displaystyle \\mathbf{B^{7}}\\;is\\;Hermitian\\;?\\;\\rightarrow\\;False$"
      ],
      "text/plain": [
       "<IPython.core.display.Math object>"
      ]
     },
     "metadata": {},
     "output_type": "display_data"
    }
   ],
   "source": [
    "# Cell 2 - A Hermitian matrix raised to an integer\n",
    "#          exponent yields another Hermitian matrix\n",
    "\n",
    "# TODO: Add your code below this\n",
    "\n",
    "# Used Dave's code\n",
    "\n",
    "#fmt: off\n",
    "# Creates a 3x3 array 'b' with complex numbers, specifying the dtype as np.complex_\n",
    "b: NDArray[np.complex_] = np.array(\n",
    "    [\n",
    "        [2, 3.8 + 2j, 1 - 5.9j],\n",
    "        [3.8 - 2j, 4, 2.57j],\n",
    "        [1 + 5.9j, -2.57, 1]\n",
    "    ], dtype=np.complex_\n",
    ")\n",
    "fmt: on\n",
    "# Calls a function to display the array with a prefix using LaTeX formatting\n",
    "display_array(b, prefix=r\"\\mathbf{B}=\")\n",
    "\n",
    "# Computes the 7th power of the array \n",
    "t1: NDArray[np.complex_] = np.linalg.matrix_power(b, 7)\n",
    "# Computes the complex conjugate and the transpose of 't1' and assigns it to 't2'\n",
    "t2: NDArray[np.complex_] = t1.conj().T\n",
    "\n",
    "# Calls a funtion to display the array with a prefix using LaTeX formatting\n",
    "display_array(t1, prefix=r\"\\mathbf{B^7}=\")\n",
    "\n",
    "# Displaying mathematical expressions using LaTeX formatting\n",
    "# It compares the equality of 't1' and 't2' using 'np.isclose' and 'all()' to check if all elements are close\n",
    "display(\n",
    "    Math(\n",
    "        (\n",
    "            r\"\\mathbf{B^{7}}\\;is\\;Hermitian\"\n",
    "            rf\"\\;?\\;\\rightarrow\\;{np.isclose(t1,t2).all()}\"\n",
    "        )\n",
    "    )\n",
    ")"
   ]
  },
  {
   "cell_type": "code",
   "execution_count": null,
   "id": "2492d58f-12ab-4c67-928d-3b9f387ce506",
   "metadata": {},
   "outputs": [],
   "source": []
  }
 ],
 "metadata": {
  "kernelspec": {
   "display_name": "Python 3 (ipykernel)",
   "language": "python",
   "name": "python3"
  },
  "language_info": {
   "codemirror_mode": {
    "name": "ipython",
    "version": 3
   },
   "file_extension": ".py",
   "mimetype": "text/x-python",
   "name": "python",
   "nbconvert_exporter": "python",
   "pygments_lexer": "ipython3",
   "version": "3.9.16"
  }
 },
 "nbformat": 4,
 "nbformat_minor": 5
}
