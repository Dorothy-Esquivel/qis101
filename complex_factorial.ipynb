{
 "cells": [
  {
   "cell_type": "code",
   "execution_count": 1,
   "id": "5891d177-25b0-45de-b88c-edc99c99b407",
   "metadata": {},
   "outputs": [
    {
     "data": {
      "text/latex": [
       "$\\displaystyle {i!} =0.4980-0.1549j$"
      ],
      "text/plain": [
       "<IPython.core.display.Math object>"
      ]
     },
     "metadata": {},
     "output_type": "display_data"
    }
   ],
   "source": [
    "# complex_factorial.ipynb\n",
    "#Cell 1\n",
    "#Used Dave's Code. \n",
    "#Calculates i! using Euler's Gamma Function\n",
    "\n",
    "import numpy as np\n",
    "import scipy.integrate\n",
    "from IPython.core.display import Math\n",
    "\n",
    "#Defines a function f(x) that returns the result of exponentiating -x and multiplying it by\n",
    "# the cosine of the natural logarithm of x\n",
    "def f(x: float) -> float:\n",
    "    return np.exp(-x) * np.cos(np.log(x))\n",
    "\n",
    "#Defines a function g(x) that returns the result of exponentiating -x and multiplying it by\n",
    "#the sine of the natural logarithm of x\n",
    "def g(x: float) -> float:\n",
    "    return np.exp(-x) * np.sin(np.log(x))\n",
    "\n",
    "#Calculate the integral of f(x) from 0 to 1000\n",
    "integral_f: float = scipy.integrate.quad(f, 0, 1000)[0]\n",
    "#Calculate the integral of g(x) from 0 to 1000\n",
    "integral_g: float = scipy.integrate.quad(g, 0, 1000)[0]\n",
    "\n",
    "#Calculate a complex number using the calculated integrals\n",
    "factorial = complex(integral_f, integral_g)\n",
    "\n",
    "#Display the factorial using mathematical notation\n",
    "display(Math(rf\"${{i!}} ={factorial:.4f}$\"))"
   ]
  },
  {
   "cell_type": "code",
   "execution_count": null,
   "id": "e9ec20d5-2ff0-44c7-b22a-dc730d8f6348",
   "metadata": {},
   "outputs": [],
   "source": []
  }
 ],
 "metadata": {
  "kernelspec": {
   "display_name": "Python 3 (ipykernel)",
   "language": "python",
   "name": "python3"
  },
  "language_info": {
   "codemirror_mode": {
    "name": "ipython",
    "version": 3
   },
   "file_extension": ".py",
   "mimetype": "text/x-python",
   "name": "python",
   "nbconvert_exporter": "python",
   "pygments_lexer": "ipython3",
   "version": "3.9.16"
  }
 },
 "nbformat": 4,
 "nbformat_minor": 5
}
